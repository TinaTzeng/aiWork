{
 "cells": [
  {
   "cell_type": "markdown",
   "metadata": {},
   "source": [
    "# 抓賠率"
   ]
  },
  {
   "cell_type": "code",
   "execution_count": 1,
   "metadata": {},
   "outputs": [],
   "source": [
    "from selenium import webdriver\n",
    "from selenium.webdriver.chrome.options import Options"
   ]
  },
  {
   "cell_type": "code",
   "execution_count": 15,
   "metadata": {},
   "outputs": [],
   "source": [
    "Options.binary_location = \"C:\\\\Program Files (x86)\\\\Google\\\\Chrome\\\\Application\\\\chrome.exe\"\n",
    "webdriver_path = 'D:\\\\chromedriver.exe'\n",
    "options = Options()\n",
    "driver = webdriver.Chrome(executable_path=webdriver_path, options=options)\n",
    "driver.get(\"https://www.sportslottery.com.tw/\")"
   ]
  },
  {
   "cell_type": "code",
   "execution_count": 16,
   "metadata": {},
   "outputs": [],
   "source": [
    "# 點擊賽事表\n",
    "button = driver.find_element_by_class_name('nav-link')\n",
    "button.click()"
   ]
  },
  {
   "cell_type": "code",
   "execution_count": 82,
   "metadata": {},
   "outputs": [],
   "source": [
    "# 點擊籃球\n",
    "basketball = driver.find_elements_by_xpath(\"//*[@class='tslc-sport-link']\")[1]\n",
    "# print(basketball.text)\n",
    "basketball.click()"
   ]
  },
  {
   "cell_type": "code",
   "execution_count": 94,
   "metadata": {},
   "outputs": [],
   "source": [
    "# 點擊未來三天的賽事表\n",
    "days = driver.find_elements_by_xpath(\"//*[@class='flex-fill']\")[1]\n",
    "days.click()"
   ]
  },
  {
   "cell_type": "code",
   "execution_count": 112,
   "metadata": {},
   "outputs": [],
   "source": [
    "# 點擊美國籃球聯賽\n",
    "league = driver.find_element_by_xpath(\"//*[@class='tslc-league-link']\")\n",
    "nba = league.find_element_by_xpath(\"//a[contains(text(), '歐洲')]\")\n",
    "# print(nba)\n",
    "nba.click()"
   ]
  },
  {
   "cell_type": "code",
   "execution_count": 126,
   "metadata": {},
   "outputs": [],
   "source": [
    "# 點擊其他，顯示所有投注標的\n",
    "all_odds = driver.find_element_by_xpath(\"//*[@class='tslc-more tslc-game-link align-self-center']\")\n",
    "all_odds.click()"
   ]
  },
  {
   "cell_type": "code",
   "execution_count": 192,
   "metadata": {},
   "outputs": [],
   "source": [
    "# market = driver.find_elements_by_class_name('tslc-game-on-sales')\n",
    "# print(type(market))\n",
    "# print(market[0].text) #market = [不讓分\\n不讓分...,]"
   ]
  },
  {
   "cell_type": "code",
   "execution_count": 191,
   "metadata": {},
   "outputs": [
    {
     "name": "stdout",
     "output_type": "stream",
     "text": [
      "不讓分\n",
      "3\n",
      "庫班火車頭\n",
      "1.25\n",
      "卡萊佛塔林\n",
      "2.85\n",
      "讓分\n",
      "3\n",
      "庫班火車頭 (-6.5)\n",
      "1.75\n",
      "卡萊佛塔林 (+6.5)\n",
      "1.75\n",
      "大小[總分]\n",
      "3\n",
      "大 160.5\n",
      "1.75\n",
      "小 160.5\n",
      "1.75\n",
      "單雙[總分]\n",
      "3\n",
      "單\n",
      "1.75\n",
      "雙\n",
      "1.75\n",
      "不讓分[第一節]\n",
      "3\n",
      "庫班火車頭\n",
      "1.45\n",
      "和局\n",
      "7.50\n",
      "卡萊佛塔林\n",
      "2.10\n"
     ]
    }
   ],
   "source": [
    "# market = driver.find_elements_by_class_name('tslc-group')\n",
    "market = driver.find_elements_by_xpath(\"//*[@class='tslc-markets collapse show px-1 pb-1']\")\n",
    "for m in market:\n",
    "    print(m.text)"
   ]
  },
  {
   "cell_type": "code",
   "execution_count": 198,
   "metadata": {},
   "outputs": [
    {
     "name": "stdout",
     "output_type": "stream",
     "text": [
      "[['不讓分', '3', '庫班火車頭', '1.25', '卡萊佛塔林', '2.85'], ['讓分', '3', '庫班火車頭 (-6.5)', '1.75', '卡萊佛塔林 (+6.5)', '1.75'], ['大小[總分]', '3', '大 160.5', '1.75', '小 160.5', '1.75'], ['單雙[總分]', '3', '單', '1.75', '雙', '1.75'], ['不讓分[第一節]', '3', '庫班火車頭', '1.45', '和局', '7.50', '卡萊佛塔林', '2.10']]\n"
     ]
    }
   ],
   "source": [
    "# print(market[0].text)\n",
    "targetList = []\n",
    "for target in market:\n",
    "    targetList.append(target.text.split(\"\\n\"))\n",
    "print(targetList)"
   ]
  },
  {
   "cell_type": "code",
   "execution_count": 212,
   "metadata": {},
   "outputs": [
    {
     "name": "stdout",
     "output_type": "stream",
     "text": [
      "[['不讓分', '3', '庫班火車頭', '1.25', '卡萊佛塔林', '2.85'], ['讓分', '3', '庫班火車頭 (-6.5)', '1.75', '卡萊佛塔林 (+6.5)', '1.75'], ['大小[總分]', '3', '大 160.5', '1.75', '小 160.5', '1.75'], ['單雙[總分]', '3', '單', '1.75', '雙', '1.75']]\n"
     ]
    }
   ],
   "source": [
    "for target in targetList:\n",
    "    if len(target) != 6:\n",
    "        targetList.remove(target)\n",
    "print(targetList)"
   ]
  },
  {
   "cell_type": "code",
   "execution_count": 213,
   "metadata": {},
   "outputs": [],
   "source": [
    "columns = ['投注標的', '過關數', '隊伍', '賠率', '隊伍', '賠率']"
   ]
  },
  {
   "cell_type": "code",
   "execution_count": 215,
   "metadata": {},
   "outputs": [
    {
     "data": {
      "text/html": [
       "<div>\n",
       "<style scoped>\n",
       "    .dataframe tbody tr th:only-of-type {\n",
       "        vertical-align: middle;\n",
       "    }\n",
       "\n",
       "    .dataframe tbody tr th {\n",
       "        vertical-align: top;\n",
       "    }\n",
       "\n",
       "    .dataframe thead th {\n",
       "        text-align: right;\n",
       "    }\n",
       "</style>\n",
       "<table border=\"1\" class=\"dataframe\">\n",
       "  <thead>\n",
       "    <tr style=\"text-align: right;\">\n",
       "      <th></th>\n",
       "      <th>投注標的</th>\n",
       "      <th>過關數</th>\n",
       "      <th>隊伍</th>\n",
       "      <th>賠率</th>\n",
       "      <th>隊伍</th>\n",
       "      <th>賠率</th>\n",
       "    </tr>\n",
       "  </thead>\n",
       "  <tbody>\n",
       "    <tr>\n",
       "      <td>0</td>\n",
       "      <td>不讓分</td>\n",
       "      <td>3</td>\n",
       "      <td>庫班火車頭</td>\n",
       "      <td>1.25</td>\n",
       "      <td>卡萊佛塔林</td>\n",
       "      <td>2.85</td>\n",
       "    </tr>\n",
       "    <tr>\n",
       "      <td>1</td>\n",
       "      <td>讓分</td>\n",
       "      <td>3</td>\n",
       "      <td>庫班火車頭 (-6.5)</td>\n",
       "      <td>1.75</td>\n",
       "      <td>卡萊佛塔林 (+6.5)</td>\n",
       "      <td>1.75</td>\n",
       "    </tr>\n",
       "    <tr>\n",
       "      <td>2</td>\n",
       "      <td>大小[總分]</td>\n",
       "      <td>3</td>\n",
       "      <td>大 160.5</td>\n",
       "      <td>1.75</td>\n",
       "      <td>小 160.5</td>\n",
       "      <td>1.75</td>\n",
       "    </tr>\n",
       "    <tr>\n",
       "      <td>3</td>\n",
       "      <td>單雙[總分]</td>\n",
       "      <td>3</td>\n",
       "      <td>單</td>\n",
       "      <td>1.75</td>\n",
       "      <td>雙</td>\n",
       "      <td>1.75</td>\n",
       "    </tr>\n",
       "  </tbody>\n",
       "</table>\n",
       "</div>"
      ],
      "text/plain": [
       "     投注標的 過關數            隊伍    賠率            隊伍    賠率\n",
       "0     不讓分   3         庫班火車頭  1.25         卡萊佛塔林  2.85\n",
       "1      讓分   3  庫班火車頭 (-6.5)  1.75  卡萊佛塔林 (+6.5)  1.75\n",
       "2  大小[總分]   3       大 160.5  1.75       小 160.5  1.75\n",
       "3  單雙[總分]   3             單  1.75             雙  1.75"
      ]
     },
     "execution_count": 215,
     "metadata": {},
     "output_type": "execute_result"
    }
   ],
   "source": [
    "import pandas as pd\n",
    "df = pd.DataFrame(data = targetList, columns = columns)\n",
    "df"
   ]
  },
  {
   "cell_type": "code",
   "execution_count": null,
   "metadata": {},
   "outputs": [],
   "source": [
    "driver.close()"
   ]
  }
 ],
 "metadata": {
  "kernelspec": {
   "display_name": "Python 3",
   "language": "python",
   "name": "python3"
  },
  "language_info": {
   "codemirror_mode": {
    "name": "ipython",
    "version": 3
   },
   "file_extension": ".py",
   "mimetype": "text/x-python",
   "name": "python",
   "nbconvert_exporter": "python",
   "pygments_lexer": "ipython3",
   "version": "3.7.0"
  }
 },
 "nbformat": 4,
 "nbformat_minor": 2
}
