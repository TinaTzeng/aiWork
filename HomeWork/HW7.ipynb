{
 "cells": [
  {
   "cell_type": "code",
   "execution_count": 107,
   "metadata": {},
   "outputs": [],
   "source": [
    "%matplotlib inline"
   ]
  },
  {
   "cell_type": "code",
   "execution_count": 108,
   "metadata": {},
   "outputs": [],
   "source": [
    "import numpy as np\n",
    "import matplotlib.pyplot as plt"
   ]
  },
  {
   "cell_type": "markdown",
   "metadata": {},
   "source": [
    "讀入tensorflow"
   ]
  },
  {
   "cell_type": "code",
   "execution_count": 109,
   "metadata": {},
   "outputs": [],
   "source": [
    "import tensorflow as tf"
   ]
  },
  {
   "cell_type": "markdown",
   "metadata": {},
   "source": [
    "# 1. 讀入 Fashion MNSIT數據集"
   ]
  },
  {
   "cell_type": "code",
   "execution_count": 110,
   "metadata": {},
   "outputs": [],
   "source": [
    "from tensorflow.keras.datasets import fashion_mnist"
   ]
  },
  {
   "cell_type": "code",
   "execution_count": 111,
   "metadata": {},
   "outputs": [],
   "source": [
    "(x_train, y_train), (x_test, y_test) = fashion_mnist.load_data()"
   ]
  },
  {
   "cell_type": "markdown",
   "metadata": {},
   "source": [
    "# 2. 欣賞數據集內容 "
   ]
  },
  {
   "cell_type": "code",
   "execution_count": 112,
   "metadata": {},
   "outputs": [
    {
     "data": {
      "text/plain": [
       "60000"
      ]
     },
     "execution_count": 112,
     "metadata": {},
     "output_type": "execute_result"
    }
   ],
   "source": [
    "len(x_train)"
   ]
  },
  {
   "cell_type": "code",
   "execution_count": 113,
   "metadata": {},
   "outputs": [
    {
     "data": {
      "text/plain": [
       "10000"
      ]
     },
     "execution_count": 113,
     "metadata": {},
     "output_type": "execute_result"
    }
   ],
   "source": [
    "len(x_test)"
   ]
  },
  {
   "cell_type": "code",
   "execution_count": 114,
   "metadata": {},
   "outputs": [
    {
     "data": {
      "text/plain": [
       "array([[  0,   0,   0,   0,   0,   0,   0,   0,   0,   0,   0,   0,   0,\n",
       "          0,   0,   0,   0,   0,   0,   0,   0,   0,   0,   0,   0,   0,\n",
       "          0,   0],\n",
       "       [  0,   0,   0,   0,   0,   0,   0,   0,   0,   0,   0,   0,   0,\n",
       "          0,   0,   0,   0,   0,   0,   0,   0,   0,   0,   0,   0,   0,\n",
       "          0,   0],\n",
       "       [  0,   0,   0,   0,   0,   0,   0,   0,   0,   0,   0,   0,   0,\n",
       "          0,   0,   0,   0,   0,   0,   0,   0,   0,   0,   0,   0,   0,\n",
       "          0,   0],\n",
       "       [  0,   0,   0,   0,   0,   0,   0,   0,   0,   0,   0,   0,   1,\n",
       "          0,   0,  13,  73,   0,   0,   1,   4,   0,   0,   0,   0,   1,\n",
       "          1,   0],\n",
       "       [  0,   0,   0,   0,   0,   0,   0,   0,   0,   0,   0,   0,   3,\n",
       "          0,  36, 136, 127,  62,  54,   0,   0,   0,   1,   3,   4,   0,\n",
       "          0,   3],\n",
       "       [  0,   0,   0,   0,   0,   0,   0,   0,   0,   0,   0,   0,   6,\n",
       "          0, 102, 204, 176, 134, 144, 123,  23,   0,   0,   0,   0,  12,\n",
       "         10,   0],\n",
       "       [  0,   0,   0,   0,   0,   0,   0,   0,   0,   0,   0,   0,   0,\n",
       "          0, 155, 236, 207, 178, 107, 156, 161, 109,  64,  23,  77, 130,\n",
       "         72,  15],\n",
       "       [  0,   0,   0,   0,   0,   0,   0,   0,   0,   0,   0,   1,   0,\n",
       "         69, 207, 223, 218, 216, 216, 163, 127, 121, 122, 146, 141,  88,\n",
       "        172,  66],\n",
       "       [  0,   0,   0,   0,   0,   0,   0,   0,   0,   1,   1,   1,   0,\n",
       "        200, 232, 232, 233, 229, 223, 223, 215, 213, 164, 127, 123, 196,\n",
       "        229,   0],\n",
       "       [  0,   0,   0,   0,   0,   0,   0,   0,   0,   0,   0,   0,   0,\n",
       "        183, 225, 216, 223, 228, 235, 227, 224, 222, 224, 221, 223, 245,\n",
       "        173,   0],\n",
       "       [  0,   0,   0,   0,   0,   0,   0,   0,   0,   0,   0,   0,   0,\n",
       "        193, 228, 218, 213, 198, 180, 212, 210, 211, 213, 223, 220, 243,\n",
       "        202,   0],\n",
       "       [  0,   0,   0,   0,   0,   0,   0,   0,   0,   1,   3,   0,  12,\n",
       "        219, 220, 212, 218, 192, 169, 227, 208, 218, 224, 212, 226, 197,\n",
       "        209,  52],\n",
       "       [  0,   0,   0,   0,   0,   0,   0,   0,   0,   0,   6,   0,  99,\n",
       "        244, 222, 220, 218, 203, 198, 221, 215, 213, 222, 220, 245, 119,\n",
       "        167,  56],\n",
       "       [  0,   0,   0,   0,   0,   0,   0,   0,   0,   4,   0,   0,  55,\n",
       "        236, 228, 230, 228, 240, 232, 213, 218, 223, 234, 217, 217, 209,\n",
       "         92,   0],\n",
       "       [  0,   0,   1,   4,   6,   7,   2,   0,   0,   0,   0,   0, 237,\n",
       "        226, 217, 223, 222, 219, 222, 221, 216, 223, 229, 215, 218, 255,\n",
       "         77,   0],\n",
       "       [  0,   3,   0,   0,   0,   0,   0,   0,   0,  62, 145, 204, 228,\n",
       "        207, 213, 221, 218, 208, 211, 218, 224, 223, 219, 215, 224, 244,\n",
       "        159,   0],\n",
       "       [  0,   0,   0,   0,  18,  44,  82, 107, 189, 228, 220, 222, 217,\n",
       "        226, 200, 205, 211, 230, 224, 234, 176, 188, 250, 248, 233, 238,\n",
       "        215,   0],\n",
       "       [  0,  57, 187, 208, 224, 221, 224, 208, 204, 214, 208, 209, 200,\n",
       "        159, 245, 193, 206, 223, 255, 255, 221, 234, 221, 211, 220, 232,\n",
       "        246,   0],\n",
       "       [  3, 202, 228, 224, 221, 211, 211, 214, 205, 205, 205, 220, 240,\n",
       "         80, 150, 255, 229, 221, 188, 154, 191, 210, 204, 209, 222, 228,\n",
       "        225,   0],\n",
       "       [ 98, 233, 198, 210, 222, 229, 229, 234, 249, 220, 194, 215, 217,\n",
       "        241,  65,  73, 106, 117, 168, 219, 221, 215, 217, 223, 223, 224,\n",
       "        229,  29],\n",
       "       [ 75, 204, 212, 204, 193, 205, 211, 225, 216, 185, 197, 206, 198,\n",
       "        213, 240, 195, 227, 245, 239, 223, 218, 212, 209, 222, 220, 221,\n",
       "        230,  67],\n",
       "       [ 48, 203, 183, 194, 213, 197, 185, 190, 194, 192, 202, 214, 219,\n",
       "        221, 220, 236, 225, 216, 199, 206, 186, 181, 177, 172, 181, 205,\n",
       "        206, 115],\n",
       "       [  0, 122, 219, 193, 179, 171, 183, 196, 204, 210, 213, 207, 211,\n",
       "        210, 200, 196, 194, 191, 195, 191, 198, 192, 176, 156, 167, 177,\n",
       "        210,  92],\n",
       "       [  0,   0,  74, 189, 212, 191, 175, 172, 175, 181, 185, 188, 189,\n",
       "        188, 193, 198, 204, 209, 210, 210, 211, 188, 188, 194, 192, 216,\n",
       "        170,   0],\n",
       "       [  2,   0,   0,   0,  66, 200, 222, 237, 239, 242, 246, 243, 244,\n",
       "        221, 220, 193, 191, 179, 182, 182, 181, 176, 166, 168,  99,  58,\n",
       "          0,   0],\n",
       "       [  0,   0,   0,   0,   0,   0,   0,  40,  61,  44,  72,  41,  35,\n",
       "          0,   0,   0,   0,   0,   0,   0,   0,   0,   0,   0,   0,   0,\n",
       "          0,   0],\n",
       "       [  0,   0,   0,   0,   0,   0,   0,   0,   0,   0,   0,   0,   0,\n",
       "          0,   0,   0,   0,   0,   0,   0,   0,   0,   0,   0,   0,   0,\n",
       "          0,   0],\n",
       "       [  0,   0,   0,   0,   0,   0,   0,   0,   0,   0,   0,   0,   0,\n",
       "          0,   0,   0,   0,   0,   0,   0,   0,   0,   0,   0,   0,   0,\n",
       "          0,   0]], dtype=uint8)"
      ]
     },
     "execution_count": 114,
     "metadata": {},
     "output_type": "execute_result"
    }
   ],
   "source": [
    "x_train[0]"
   ]
  },
  {
   "cell_type": "code",
   "execution_count": 9,
   "metadata": {},
   "outputs": [
    {
     "data": {
      "text/plain": [
       "<matplotlib.image.AxesImage at 0x1cdf8d57908>"
      ]
     },
     "execution_count": 9,
     "metadata": {},
     "output_type": "execute_result"
    },
    {
     "data": {
      "image/png": "[encoded data removed]",
      "text/plain": [
       "<Figure size 432x288 with 1 Axes>"
      ]
     },
     "metadata": {
      "needs_background": "light"
     },
     "output_type": "display_data"
    }
   ],
   "source": [
    "plt.imshow(x_train[0], cmap = \"Greys\")"
   ]
  },
  {
   "cell_type": "code",
   "execution_count": 115,
   "metadata": {},
   "outputs": [
    {
     "data": {
      "text/plain": [
       "numpy.ndarray"
      ]
     },
     "execution_count": 115,
     "metadata": {},
     "output_type": "execute_result"
    }
   ],
   "source": [
    "type(y_train)"
   ]
  },
  {
   "cell_type": "markdown",
   "metadata": {},
   "source": [
    "看y有幾種類別"
   ]
  },
  {
   "cell_type": "code",
   "execution_count": 121,
   "metadata": {},
   "outputs": [
    {
     "data": {
      "text/plain": [
       "array([0, 1, 2, 3, 4, 5, 6, 7, 8, 9], dtype=uint8)"
      ]
     },
     "execution_count": 121,
     "metadata": {},
     "output_type": "execute_result"
    }
   ],
   "source": [
    "np.unique(y_train)"
   ]
  },
  {
   "cell_type": "code",
   "execution_count": 124,
   "metadata": {},
   "outputs": [
    {
     "data": {
      "image/png": "[encoded data removed]",
      "text/plain": [
       "<Figure size 432x288 with 10 Axes>"
      ]
     },
     "metadata": {
      "needs_background": "light"
     },
     "output_type": "display_data"
    }
   ],
   "source": [
    "l = []\n",
    "for i in set(y_train):\n",
    "    n =  np.where(y_train == i)[0][0]\n",
    "    l.append(n)\n",
    "i = 1\n",
    "for j in l:\n",
    "    plt.subplot(2,5,i)\n",
    "    plt.imshow(x_train[j].reshape(28,28), cmap=\"Greys\")\n",
    "    i += 1"
   ]
  },
  {
   "cell_type": "markdown",
   "metadata": {},
   "source": [
    "# 3. 資料整理"
   ]
  },
  {
   "cell_type": "code",
   "execution_count": 125,
   "metadata": {},
   "outputs": [
    {
     "name": "stdout",
     "output_type": "stream",
     "text": [
      "max: 255\n",
      "min: 0\n"
     ]
    }
   ],
   "source": [
    "print('max:' ,x_train[0].max())\n",
    "print('min:' ,x_train[0].min())"
   ]
  },
  {
   "cell_type": "code",
   "execution_count": 126,
   "metadata": {},
   "outputs": [],
   "source": [
    "x_train = x_train/255\n",
    "x_test = x_test/255"
   ]
  },
  {
   "cell_type": "code",
   "execution_count": 127,
   "metadata": {},
   "outputs": [
    {
     "data": {
      "text/plain": [
       "(60000, 28, 28)"
      ]
     },
     "execution_count": 127,
     "metadata": {},
     "output_type": "execute_result"
    }
   ],
   "source": [
    "x_train.shape"
   ]
  },
  {
   "cell_type": "markdown",
   "metadata": {},
   "source": [
    "變成一維矩陣"
   ]
  },
  {
   "cell_type": "code",
   "execution_count": 128,
   "metadata": {},
   "outputs": [],
   "source": [
    "x_train = x_train.reshape(60000, 28*28)"
   ]
  },
  {
   "cell_type": "code",
   "execution_count": 129,
   "metadata": {},
   "outputs": [],
   "source": [
    "x_test = x_test.reshape(10000, 28*28)"
   ]
  },
  {
   "cell_type": "code",
   "execution_count": 130,
   "metadata": {},
   "outputs": [],
   "source": [
    "from tensorflow.keras.utils import to_categorical"
   ]
  },
  {
   "cell_type": "code",
   "execution_count": 131,
   "metadata": {},
   "outputs": [],
   "source": [
    "y_train = to_categorical(y_train, 10)\n",
    "y_test = to_categorical(y_test, 10)"
   ]
  },
  {
   "cell_type": "code",
   "execution_count": 132,
   "metadata": {},
   "outputs": [
    {
     "data": {
      "text/plain": [
       "array([0., 0., 0., 0., 0., 0., 0., 0., 0., 1.], dtype=float32)"
      ]
     },
     "execution_count": 132,
     "metadata": {},
     "output_type": "execute_result"
    }
   ],
   "source": [
    "y_train[0]"
   ]
  },
  {
   "cell_type": "markdown",
   "metadata": {},
   "source": [
    "打造神經網路"
   ]
  },
  {
   "cell_type": "code",
   "execution_count": 133,
   "metadata": {},
   "outputs": [],
   "source": [
    "from tensorflow.keras.models import Sequential\n",
    "from tensorflow.keras.layers import Dense\n",
    "from tensorflow.keras.optimizers import SGD"
   ]
  },
  {
   "cell_type": "code",
   "execution_count": 134,
   "metadata": {},
   "outputs": [],
   "source": [
    "model = Sequential()"
   ]
  },
  {
   "cell_type": "code",
   "execution_count": 135,
   "metadata": {},
   "outputs": [],
   "source": [
    "model.add(Dense(100, input_dim = 784, activation = \"relu\"))\n",
    "#relu: 介於0~無線道之間，忽略負值"
   ]
  },
  {
   "cell_type": "code",
   "execution_count": 136,
   "metadata": {},
   "outputs": [],
   "source": [
    "model.add(Dense(50, activation = \"relu\"))"
   ]
  },
  {
   "cell_type": "code",
   "execution_count": 137,
   "metadata": {},
   "outputs": [],
   "source": [
    "model.add(Dense(10, activation = \"softmax\"))\n",
    "#softmax: 介於0跟1之間，機率總和=1，適合多分類"
   ]
  },
  {
   "cell_type": "markdown",
   "metadata": {},
   "source": [
    "# 4. 組裝神經網路"
   ]
  },
  {
   "cell_type": "code",
   "execution_count": 138,
   "metadata": {},
   "outputs": [],
   "source": [
    "model.compile(loss = \"categorical_crossentropy\", optimizer = SGD(lr=0.5), metrics = [\"accuracy\"])\n",
    "#categorical_crossentropy應用於多分類"
   ]
  },
  {
   "cell_type": "code",
   "execution_count": 139,
   "metadata": {},
   "outputs": [
    {
     "name": "stdout",
     "output_type": "stream",
     "text": [
      "Model: \"sequential_1\"\n",
      "_________________________________________________________________\n",
      "Layer (type)                 Output Shape              Param #   \n",
      "=================================================================\n",
      "dense_3 (Dense)              (None, 100)               78500     \n",
      "_________________________________________________________________\n",
      "dense_4 (Dense)              (None, 50)                5050      \n",
      "_________________________________________________________________\n",
      "dense_5 (Dense)              (None, 10)                510       \n",
      "=================================================================\n",
      "Total params: 84,060\n",
      "Trainable params: 84,060\n",
      "Non-trainable params: 0\n",
      "_________________________________________________________________\n"
     ]
    }
   ],
   "source": [
    "model.summary()"
   ]
  },
  {
   "cell_type": "markdown",
   "metadata": {},
   "source": [
    "# 5.訓練"
   ]
  },
  {
   "cell_type": "code",
   "execution_count": 140,
   "metadata": {},
   "outputs": [
    {
     "name": "stdout",
     "output_type": "stream",
     "text": [
      "Train on 60000 samples\n",
      "Epoch 1/50\n",
      "60000/60000 [==============================] - 2s 36us/sample - loss: 0.7156 - accuracy: 0.7338\n",
      "Epoch 2/50\n",
      "60000/60000 [==============================] - 2s 31us/sample - loss: 0.4562 - accuracy: 0.8299\n",
      "Epoch 3/50\n",
      "60000/60000 [==============================] - 2s 35us/sample - loss: 0.4092 - accuracy: 0.8486\n",
      "Epoch 4/50\n",
      "60000/60000 [==============================] - 2s 35us/sample - loss: 0.3744 - accuracy: 0.8609\n",
      "Epoch 5/50\n",
      "60000/60000 [==============================] - 2s 37us/sample - loss: 0.3544 - accuracy: 0.8675\n",
      "Epoch 6/50\n",
      "60000/60000 [==============================] - 2s 36us/sample - loss: 0.3395 - accuracy: 0.8723\n",
      "Epoch 7/50\n",
      "60000/60000 [==============================] - 2s 37us/sample - loss: 0.3285 - accuracy: 0.8764\n",
      "Epoch 8/50\n",
      "60000/60000 [==============================] - 2s 38us/sample - loss: 0.3154 - accuracy: 0.8835\n",
      "Epoch 9/50\n",
      "60000/60000 [==============================] - 2s 38us/sample - loss: 0.3080 - accuracy: 0.8839\n",
      "Epoch 10/50\n",
      "60000/60000 [==============================] - 2s 34us/sample - loss: 0.2980 - accuracy: 0.8870\n",
      "Epoch 11/50\n",
      "60000/60000 [==============================] - 2s 38us/sample - loss: 0.2953 - accuracy: 0.8891\n",
      "Epoch 12/50\n",
      "60000/60000 [==============================] - 2s 39us/sample - loss: 0.2858 - accuracy: 0.8927\n",
      "Epoch 13/50\n",
      "60000/60000 [==============================] - 2s 34us/sample - loss: 0.2838 - accuracy: 0.8924\n",
      "Epoch 14/50\n",
      "60000/60000 [==============================] - 2s 30us/sample - loss: 0.2740 - accuracy: 0.8976\n",
      "Epoch 15/50\n",
      "60000/60000 [==============================] - ETA: 0s - loss: 0.2706 - accuracy: 0.89 - 2s 32us/sample - loss: 0.2704 - accuracy: 0.8988\n",
      "Epoch 16/50\n",
      "60000/60000 [==============================] - 2s 37us/sample - loss: 0.2674 - accuracy: 0.8995\n",
      "Epoch 17/50\n",
      "60000/60000 [==============================] - 2s 37us/sample - loss: 0.2611 - accuracy: 0.9008\n",
      "Epoch 18/50\n",
      "60000/60000 [==============================] - 2s 34us/sample - loss: 0.2611 - accuracy: 0.9017\n",
      "Epoch 19/50\n",
      "60000/60000 [==============================] - 2s 31us/sample - loss: 0.2537 - accuracy: 0.9053\n",
      "Epoch 20/50\n",
      "60000/60000 [==============================] - 2s 31us/sample - loss: 0.2524 - accuracy: 0.9038\n",
      "Epoch 21/50\n",
      "60000/60000 [==============================] - 2s 37us/sample - loss: 0.2485 - accuracy: 0.9057\n",
      "Epoch 22/50\n",
      "60000/60000 [==============================] - 2s 35us/sample - loss: 0.2443 - accuracy: 0.9089\n",
      "Epoch 23/50\n",
      "60000/60000 [==============================] - 2s 36us/sample - loss: 0.2401 - accuracy: 0.9081\n",
      "Epoch 24/50\n",
      "60000/60000 [==============================] - 2s 34us/sample - loss: 0.2359 - accuracy: 0.9110\n",
      "Epoch 25/50\n",
      "60000/60000 [==============================] - 2s 34us/sample - loss: 0.2373 - accuracy: 0.9097\n",
      "Epoch 26/50\n",
      "60000/60000 [==============================] - 2s 32us/sample - loss: 0.2332 - accuracy: 0.9107\n",
      "Epoch 27/50\n",
      "60000/60000 [==============================] - 2s 37us/sample - loss: 0.2314 - accuracy: 0.9116\n",
      "Epoch 28/50\n",
      "60000/60000 [==============================] - 2s 36us/sample - loss: 0.2242 - accuracy: 0.9158\n",
      "Epoch 29/50\n",
      "60000/60000 [==============================] - 2s 34us/sample - loss: 0.2246 - accuracy: 0.9143\n",
      "Epoch 30/50\n",
      "60000/60000 [==============================] - 2s 35us/sample - loss: 0.2207 - accuracy: 0.9157\n",
      "Epoch 31/50\n",
      "60000/60000 [==============================] - 2s 34us/sample - loss: 0.2183 - accuracy: 0.9183\n",
      "Epoch 32/50\n",
      "60000/60000 [==============================] - 2s 32us/sample - loss: 0.2143 - accuracy: 0.9193\n",
      "Epoch 33/50\n",
      "60000/60000 [==============================] - 2s 37us/sample - loss: 0.2137 - accuracy: 0.9195\n",
      "Epoch 34/50\n",
      "60000/60000 [==============================] - 2s 35us/sample - loss: 0.2119 - accuracy: 0.9200\n",
      "Epoch 35/50\n",
      "60000/60000 [==============================] - 2s 36us/sample - loss: 0.2110 - accuracy: 0.9193\n",
      "Epoch 36/50\n",
      "60000/60000 [==============================] - 2s 34us/sample - loss: 0.2084 - accuracy: 0.9212\n",
      "Epoch 37/50\n",
      "60000/60000 [==============================] - 2s 38us/sample - loss: 0.2109 - accuracy: 0.9197\n",
      "Epoch 38/50\n",
      "60000/60000 [==============================] - 2s 37us/sample - loss: 0.2024 - accuracy: 0.9231\n",
      "Epoch 39/50\n",
      "60000/60000 [==============================] - 2s 35us/sample - loss: 0.2043 - accuracy: 0.9235\n",
      "Epoch 40/50\n",
      "60000/60000 [==============================] - 2s 37us/sample - loss: 0.2030 - accuracy: 0.9231\n",
      "Epoch 41/50\n",
      "60000/60000 [==============================] - 2s 38us/sample - loss: 0.1995 - accuracy: 0.9244\n",
      "Epoch 42/50\n",
      "60000/60000 [==============================] - 2s 38us/sample - loss: 0.1954 - accuracy: 0.9261\n",
      "Epoch 43/50\n",
      "60000/60000 [==============================] - 2s 38us/sample - loss: 0.1958 - accuracy: 0.9260\n",
      "Epoch 44/50\n",
      "60000/60000 [==============================] - 2s 36us/sample - loss: 0.1924 - accuracy: 0.9260\n",
      "Epoch 45/50\n",
      "60000/60000 [==============================] - 2s 37us/sample - loss: 0.1918 - accuracy: 0.9270\n",
      "Epoch 46/50\n",
      "60000/60000 [==============================] - 2s 38us/sample - loss: 0.1907 - accuracy: 0.9268\n",
      "Epoch 47/50\n",
      "60000/60000 [==============================] - 2s 36us/sample - loss: 0.1881 - accuracy: 0.9290\n",
      "Epoch 48/50\n",
      "60000/60000 [==============================] - 2s 37us/sample - loss: 0.1976 - accuracy: 0.9263\n",
      "Epoch 49/50\n",
      "60000/60000 [==============================] - 2s 32us/sample - loss: 0.1925 - accuracy: 0.9272\n",
      "Epoch 50/50\n",
      "60000/60000 [==============================] - 2s 29us/sample - loss: 0.1851 - accuracy: 0.9293\n"
     ]
    },
    {
     "data": {
      "text/plain": [
       "<tensorflow.python.keras.callbacks.History at 0x1cd8004c438>"
      ]
     },
     "execution_count": 140,
     "metadata": {},
     "output_type": "execute_result"
    }
   ],
   "source": [
    "model.fit(x_train, y_train, batch_size = 100, epochs = 50)"
   ]
  },
  {
   "cell_type": "markdown",
   "metadata": {},
   "source": [
    "# 6.訓練結果"
   ]
  },
  {
   "cell_type": "code",
   "execution_count": 141,
   "metadata": {},
   "outputs": [],
   "source": [
    "result = model.predict_classes(x_test)"
   ]
  },
  {
   "cell_type": "code",
   "execution_count": 142,
   "metadata": {},
   "outputs": [
    {
     "name": "stdout",
     "output_type": "stream",
     "text": [
      "60000/60000 [==============================] - 1s 23us/sample - loss: 0.1786 - accuracy: 0.9312s - loss: 0.179\n"
     ]
    }
   ],
   "source": [
    "result_train = model.evaluate(x_train, y_train, batch_size = 100)"
   ]
  },
  {
   "cell_type": "code",
   "execution_count": 143,
   "metadata": {},
   "outputs": [
    {
     "name": "stdout",
     "output_type": "stream",
     "text": [
      "10000/10000 [==============================] - 0s 18us/sample - loss: 0.4180 - accuracy: 0.8793\n"
     ]
    }
   ],
   "source": [
    "result_test = model.evaluate(x_test, y_test, batch_size = 100)"
   ]
  },
  {
   "cell_type": "code",
   "execution_count": 152,
   "metadata": {},
   "outputs": [
    {
     "name": "stdout",
     "output_type": "stream",
     "text": [
      "神經網路預測: 3\n",
      "實際值: [0. 0. 0. 1. 0. 0. 0. 0. 0. 0.]\n"
     ]
    }
   ],
   "source": [
    "print(\"神經網路預測:\", result[100])\n",
    "print(\"實際值:\", y_test[100])"
   ]
  },
  {
   "cell_type": "code",
   "execution_count": 153,
   "metadata": {},
   "outputs": [
    {
     "data": {
      "text/plain": [
       "<matplotlib.image.AxesImage at 0x1cdfd268f28>"
      ]
     },
     "execution_count": 153,
     "metadata": {},
     "output_type": "execute_result"
    },
    {
     "data": {
      "image/png": "[encoded data removed]",
      "text/plain": [
       "<Figure size 432x288 with 1 Axes>"
      ]
     },
     "metadata": {
      "needs_background": "light"
     },
     "output_type": "display_data"
    }
   ],
   "source": [
    "plt.imshow(x_test[100].reshape(28,28), cmap=\"Greys\")"
   ]
  }
 ],
 "metadata": {
  "kernelspec": {
   "display_name": "Python 3",
   "language": "python",
   "name": "python3"
  },
  "language_info": {
   "codemirror_mode": {
    "name": "ipython",
    "version": 3
   },
   "file_extension": ".py",
   "mimetype": "text/x-python",
   "name": "python",
   "nbconvert_exporter": "python",
   "pygments_lexer": "ipython3",
   "version": "3.7.0"
  }
 },
 "nbformat": 4,
 "nbformat_minor": 2
}
